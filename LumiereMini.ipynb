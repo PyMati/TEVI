{
  "nbformat": 4,
  "nbformat_minor": 0,
  "metadata": {
    "colab": {
      "provenance": []
    },
    "kernelspec": {
      "name": "python3",
      "display_name": "Python 3"
    },
    "language_info": {
      "name": "python"
    }
  },
  "cells": [
    {
      "cell_type": "code",
      "execution_count": 1,
      "metadata": {
        "id": "4jQLxm0TSg3X"
      },
      "outputs": [],
      "source": [
        "import torch\n",
        "from torch import nn\n",
        "from torchvision import transforms\n",
        "from torchvision.io import read_video\n",
        "from torch.utils.data import Dataset, DataLoader\n",
        "from torchvision.datasets import MovingMNIST\n",
        "\n",
        "import matplotlib.pyplot as plt\n",
        "import numpy as np\n",
        "import time"
      ]
    },
    {
      "cell_type": "code",
      "source": [
        "!pip install av"
      ],
      "metadata": {
        "colab": {
          "base_uri": "https://localhost:8080/"
        },
        "id": "HWW14f0Xoo9i",
        "outputId": "14544b69-7590-4dd0-caca-4a442f558234"
      },
      "execution_count": 2,
      "outputs": [
        {
          "output_type": "stream",
          "name": "stdout",
          "text": [
            "Requirement already satisfied: av in /usr/local/lib/python3.10/dist-packages (12.3.0)\n"
          ]
        }
      ]
    },
    {
      "cell_type": "code",
      "source": [
        "class ConvolutionBasedInflationBlock(nn.Module):\n",
        "    def __init__(self, dim, dim_out=3, spatial_layers=3, activation='relu'):\n",
        "        super().__init__()\n",
        "\n",
        "        # Pretrained Spatial Layer(s)\n",
        "        self.pretrained_spatial_layers = nn.ModuleList([\n",
        "            nn.Conv3d(dim, dim, kernel_size=(1, 3, 3), padding=(0, 1, 1))\n",
        "            for _ in range(spatial_layers)\n",
        "        ])\n",
        "\n",
        "        # 2D Convolution\n",
        "        self.conv2d = nn.Conv3d(dim, dim_out, kernel_size=(1, 3, 3), padding=(0, 1, 1))\n",
        "\n",
        "        # 1D Convolution\n",
        "        self.conv1d = nn.Conv3d(dim_out, dim_out, kernel_size=(3, 1, 1), padding=(1, 0, 0))\n",
        "\n",
        "        # Normalization layers\n",
        "        self.norm1 = nn.LayerNorm(dim_out)\n",
        "        self.norm2 = nn.LayerNorm(dim_out)\n",
        "\n",
        "        # Activation function\n",
        "        if activation == 'relu':\n",
        "            self.activation = nn.ReLU()\n",
        "        elif activation == 'gelu':\n",
        "            self.activation = nn.GELU()\n",
        "        else:\n",
        "            raise ValueError(f\"Unsupported activation: {activation}\")\n",
        "\n",
        "        # Linear Projection\n",
        "        self.linear_projection = nn.Linear(dim_out, dim_out)\n",
        "\n",
        "    def forward(self, x):\n",
        "        # x shape: (B, T, C, H, W)\n",
        "        x = x.permute(0, 2, 1, 3, 4)  # (B, C, T, H, W)\n",
        "\n",
        "        # Pretrained Spatial Layer(s)\n",
        "        for layer in self.pretrained_spatial_layers:\n",
        "            x = layer(x)\n",
        "\n",
        "        # 2D Convolution\n",
        "        x = self.conv2d(x)\n",
        "\n",
        "        # Norm + activation\n",
        "        x = x.permute(0, 2, 3, 4, 1)  # (B, T, H, W, C)\n",
        "        x = self.norm1(x)\n",
        "        x = self.activation(x)\n",
        "        x = x.permute(0, 4, 1, 2, 3)  # (B, C, T, H, W)\n",
        "\n",
        "        # 1D Convolution\n",
        "        x = self.conv1d(x)\n",
        "\n",
        "        # Norm + activation\n",
        "        x = x.permute(0, 2, 3, 4, 1)  # (B, T, H, W, C)\n",
        "        x = self.norm2(x)\n",
        "        x = self.activation(x)\n",
        "\n",
        "        # Linear Projection\n",
        "        x = self.linear_projection(x)\n",
        "\n",
        "        # Return to original shape\n",
        "        x = x.permute(0, 1, 4, 2, 3)  # (B, T, C, H, W)\n",
        "\n",
        "        return x"
      ],
      "metadata": {
        "id": "ItyBB1gFn00G"
      },
      "execution_count": 3,
      "outputs": []
    },
    {
      "cell_type": "code",
      "source": [
        "class AttentionBasedInflationBlock(nn.Module):\n",
        "    def __init__(self, dim, num_heads=9, qkv_bias=False, attn_drop=0., proj_drop=0.):\n",
        "        super().__init__()\n",
        "        self.pretrained_spatial_layers = nn.ModuleList([\n",
        "            nn.Conv3d(dim, dim, kernel_size=(1, 3, 3), padding=(0, 1, 1))\n",
        "            for _ in range(3)  # Assuming 3 pretrained spatial layers\n",
        "        ])\n",
        "        self.id_attention = nn.MultiheadAttention(dim, num_heads, dropout=attn_drop, batch_first=True)\n",
        "        self.linear_projection = nn.Linear(dim, dim)\n",
        "\n",
        "    def forward(self, x):\n",
        "        # x shape: (B, T, C, H, W)\n",
        "\n",
        "        # Permute to (B, C, T, H, W) for Conv3d layers\n",
        "        x = x.permute(0, 2, 1, 3, 4)\n",
        "\n",
        "        # Apply pretrained spatial layers\n",
        "        for layer in self.pretrained_spatial_layers:\n",
        "            x = layer(x)\n",
        "\n",
        "        # Reshape for attention\n",
        "        B, C, T, H, W = x.shape\n",
        "        x = x.permute(0, 2, 3, 4, 1).reshape(B*T, H*W, C)\n",
        "\n",
        "        # Apply ID Attention\n",
        "        x, _ = self.id_attention(x, x, x)\n",
        "\n",
        "        # Apply Linear Projection\n",
        "        x = self.linear_projection(x)\n",
        "\n",
        "        # Reshape back to (B, T, C, H, W)\n",
        "        x = x.reshape(B, T, H, W, C).permute(0, 1, 4, 2, 3)\n",
        "\n",
        "        return x"
      ],
      "metadata": {
        "id": "BbJy4gp5gj47"
      },
      "execution_count": 4,
      "outputs": []
    },
    {
      "cell_type": "code",
      "source": [
        "class SpatialResizing(nn.Module):\n",
        "  def __init__(self, channels, transpose=False):\n",
        "    super().__init__()\n",
        "\n",
        "    if not transpose:\n",
        "      self.conv = nn.Conv2d(channels, channels, kernel_size=3, stride=2, padding=1)\n",
        "    else:\n",
        "      self.conv = nn.ConvTranspose2d(channels, channels, kernel_size=3, stride=2, padding=1, output_padding=1)\n",
        "\n",
        "  def forward(self, x):\n",
        "    b, t, c, h, w = x.shape\n",
        "\n",
        "    out = []\n",
        "    for i in range(t):\n",
        "      out.append(self.conv(x[:, i]))\n",
        "\n",
        "    return torch.stack(out, dim=1)"
      ],
      "metadata": {
        "id": "Lw46V-wwSl_u"
      },
      "execution_count": 5,
      "outputs": []
    },
    {
      "cell_type": "code",
      "source": [
        "class TemporalResizing(nn.Module):\n",
        "    def __init__(self, time_dim, imgs_dims, transpose=False):\n",
        "        super().__init__()\n",
        "        self.transpose = transpose\n",
        "        self.time_dim = time_dim\n",
        "        self.conv_channels = imgs_dims[0] * imgs_dims[1] * imgs_dims[2]\n",
        "\n",
        "        if not transpose:\n",
        "            self.conv = nn.Conv1d(self.conv_channels, self.conv_channels, kernel_size=3, stride=2, padding=1)\n",
        "        else:\n",
        "            self.conv = nn.ConvTranspose1d(self.conv_channels, self.conv_channels, kernel_size=3, stride=2, padding=1, output_padding=1)\n",
        "\n",
        "    def forward(self, x):\n",
        "        b, t, c, h, w = x.shape\n",
        "\n",
        "        x = x.reshape(b, t, -1).permute(0, 2, 1)\n",
        "        x = self.conv(x)\n",
        "        x = x.permute(0, 2, 1)\n",
        "\n",
        "        new_time = x.shape[1]\n",
        "        x = x.view(b, new_time, c, h, w)\n",
        "\n",
        "        return x"
      ],
      "metadata": {
        "id": "3tGeOPkFTIW3"
      },
      "execution_count": 6,
      "outputs": []
    },
    {
      "cell_type": "code",
      "source": [
        "class MultiDimensionResizing(nn.Module):\n",
        "  def __init__(self, channels, time_dim, imgs_dims, transpose=False):\n",
        "    super().__init__()\n",
        "    self.spatial_resize = SpatialResizing(channels, transpose)\n",
        "\n",
        "    if not transpose:\n",
        "      self.imgs_dims = tuple()\n",
        "      self.imgs_dims += (channels, imgs_dims[0] // 2, imgs_dims[1] // 2)\n",
        "    else:\n",
        "      self.imgs_dims = tuple()\n",
        "      self.imgs_dims += (channels, imgs_dims[0] * 2, imgs_dims[1] * 2)\n",
        "\n",
        "    self.temporal_resize = TemporalResizing(time_dim, self.imgs_dims, transpose)\n",
        "\n",
        "  def forward(self, x):\n",
        "    spatial = self.spatial_resize(x)\n",
        "    return self.temporal_resize(spatial)"
      ],
      "metadata": {
        "id": "ZB1a1pz8TQuk"
      },
      "execution_count": 7,
      "outputs": []
    },
    {
      "cell_type": "code",
      "source": [
        "# Batch size x Time x Colors x H x W\n",
        "valid = torch.rand((64, 8, 3, 8, 8))"
      ],
      "metadata": {
        "id": "JrsO1r5IiCsL"
      },
      "execution_count": 8,
      "outputs": []
    },
    {
      "cell_type": "code",
      "source": [
        "conv_inf = ConvolutionBasedInflationBlock(3, 32)\n",
        "x = conv_inf(valid)\n",
        "\n",
        "print(\"Conv\", x.shape)\n",
        "\n",
        "down = MultiDimensionResizing(32, 4, (8, 8), False)\n",
        "x = down(x)\n",
        "\n",
        "print(\"Down\", x.shape)\n",
        "\n",
        "inflation = AttentionBasedInflationBlock(32, num_heads=8)\n",
        "x = inflation(x)\n",
        "\n",
        "print(\"Inflation\", x.shape)\n",
        "\n",
        "up = MultiDimensionResizing(32, 2,  (4, 4), True)\n",
        "x = up(x)\n",
        "\n",
        "print(\"Up\", x.shape)\n",
        "\n",
        "conv_inf_2 = ConvolutionBasedInflationBlock(32, 3)\n",
        "x = conv_inf_2(x)\n",
        "\n",
        "print(\"Conv\", x.shape)"
      ],
      "metadata": {
        "colab": {
          "base_uri": "https://localhost:8080/"
        },
        "id": "67VU-e7PfZxm",
        "outputId": "e772e8be-9e3c-488e-f74d-eb96e0c85fbf"
      },
      "execution_count": 9,
      "outputs": [
        {
          "output_type": "stream",
          "name": "stdout",
          "text": [
            "Conv torch.Size([64, 8, 32, 8, 8])\n",
            "Down torch.Size([64, 4, 32, 4, 4])\n",
            "Inflation torch.Size([64, 4, 32, 4, 4])\n",
            "Up torch.Size([64, 8, 32, 8, 8])\n",
            "Conv torch.Size([64, 8, 3, 8, 8])\n"
          ]
        }
      ]
    },
    {
      "cell_type": "code",
      "source": [
        "class Lumiere(nn.Module):\n",
        "  def __init__(self, start_img_shape):\n",
        "    super().__init__()\n",
        "\n",
        "    self.inflantion_block_1 = ConvolutionBasedInflationBlock(1, 32)\n",
        "    self.resizing_1_img_shape = (start_img_shape[0], start_img_shape[1])\n",
        "    self.resizing_1 = MultiDimensionResizing(32, 4, self.resizing_1_img_shape, False)\n",
        "\n",
        "    self.inflantion_block_2 = ConvolutionBasedInflationBlock(32, 64)\n",
        "    self.resizing_2_img_shape = (self.resizing_1_img_shape[0] // 2, self.resizing_1_img_shape[1] // 2)\n",
        "    self.resizing_2 = MultiDimensionResizing(64, 2, self.resizing_2_img_shape, False)\n",
        "\n",
        "    self.attention = AttentionBasedInflationBlock(64, num_heads=8)\n",
        "\n",
        "    self.resizing_3_img_shape = (self.resizing_2_img_shape[0] // 2, self.resizing_2_img_shape[1] // 2)\n",
        "    self.resizing_3 = MultiDimensionResizing(64, 2, self.resizing_3_img_shape, True)\n",
        "    self.inflantion_block_3 = ConvolutionBasedInflationBlock(64, 32)\n",
        "\n",
        "    self.resizing_4_img_shape = (self.resizing_3_img_shape[0] * 2, self.resizing_3_img_shape[1] * 2)\n",
        "    self.resizing_4 = MultiDimensionResizing(32, 4, self.resizing_4_img_shape, True)\n",
        "    self.inflantion_block_4 = ConvolutionBasedInflationBlock(32, 1)\n",
        "\n",
        "  def forward(self, x):\n",
        "    residual_1 = self.inflantion_block_1(x)\n",
        "    x = self.resizing_1(residual_1.clone())\n",
        "\n",
        "    residual_2 = self.inflantion_block_2(x)\n",
        "    x = self.resizing_2(residual_2.clone())\n",
        "\n",
        "    x = self.attention(x)\n",
        "\n",
        "    x = self.resizing_3(x)\n",
        "    x += residual_2\n",
        "\n",
        "    x = self.inflantion_block_3(x)\n",
        "\n",
        "    x = self.resizing_4(x)\n",
        "    x += residual_1\n",
        "\n",
        "    x = self.inflantion_block_4(x)\n",
        "\n",
        "    return x"
      ],
      "metadata": {
        "id": "6Mspi-FIkVlr"
      },
      "execution_count": 10,
      "outputs": []
    },
    {
      "cell_type": "code",
      "source": [
        "def add_gaussian_noise(tensor, mean=0, sigma=0.05):\n",
        "    noise = torch.randn_like(tensor) * sigma + mean\n",
        "    noisy_tensor = tensor + noise\n",
        "    noisy_tensor = torch.clamp(noisy_tensor, 0.0, 1.0)\n",
        "    return noisy_tensor"
      ],
      "metadata": {
        "id": "8Apx0eSXpMX_"
      },
      "execution_count": 11,
      "outputs": []
    },
    {
      "cell_type": "code",
      "source": [
        "def display_images_from_tensor(video_tensor, num_images=30):\n",
        "    assert len(video_tensor.shape) == 4, \"Tensor should have shape (T, C, H, W)\"\n",
        "\n",
        "    T, C, H, W = video_tensor.shape\n",
        "\n",
        "    num_images = min(num_images, T)\n",
        "\n",
        "    fig, axes = plt.subplots(5, 6, figsize=(15, 10))\n",
        "    axes = axes.flatten()\n",
        "\n",
        "    for i in range(num_images):\n",
        "        frame = video_tensor[i].permute(1, 2, 0).numpy()\n",
        "\n",
        "        ax = axes[i]\n",
        "        ax.imshow(frame)\n",
        "        ax.axis('off')\n",
        "\n",
        "    for j in range(num_images, len(axes)):\n",
        "        axes[j].axis('off')\n",
        "\n",
        "    plt.tight_layout()\n",
        "    plt.show()"
      ],
      "metadata": {
        "id": "6yQ-SMPzpO-z"
      },
      "execution_count": 12,
      "outputs": []
    },
    {
      "cell_type": "code",
      "source": [
        "dataset = MovingMNIST(\n",
        "    root='./data',\n",
        "    split='train',\n",
        "    download=False,\n",
        "    transform=transforms.Compose([\n",
        "        transforms.Resize((16, 16)),\n",
        "    ])\n",
        ")"
      ],
      "metadata": {
        "id": "kD0TxPfBy8C5"
      },
      "execution_count": 13,
      "outputs": []
    },
    {
      "cell_type": "code",
      "source": [
        "moving_mnist = DataLoader(dataset, batch_size=32)"
      ],
      "metadata": {
        "id": "XU3uqVa3zHxU"
      },
      "execution_count": 14,
      "outputs": []
    },
    {
      "cell_type": "code",
      "source": [
        "moving_mnist = next(iter(moving_mnist))\n",
        "moving_mnist.shape"
      ],
      "metadata": {
        "colab": {
          "base_uri": "https://localhost:8080/"
        },
        "id": "p6sPOBDJzMp9",
        "outputId": "73d60fa4-9fc7-4e0c-a39b-ee9565001cc4"
      },
      "execution_count": 15,
      "outputs": [
        {
          "output_type": "execute_result",
          "data": {
            "text/plain": [
              "torch.Size([32, 10, 1, 16, 16])"
            ]
          },
          "metadata": {},
          "execution_count": 15
        }
      ]
    },
    {
      "cell_type": "code",
      "source": [
        "display_images_from_tensor(moving_mnist[0])"
      ],
      "metadata": {
        "colab": {
          "base_uri": "https://localhost:8080/",
          "height": 1000
        },
        "id": "EKykdZSEzqqs",
        "outputId": "d9e5557e-fb8b-4958-dbfd-b6c33724654a"
      },
      "execution_count": 16,
      "outputs": [
        {
          "output_type": "display_data",
          "data": {
            "text/plain": [
              "<Figure size 1500x1000 with 30 Axes>"
            ],
            "image/png": "[encoded data removed]"
          },
          "metadata": {}
        }
      ]
    },
    {
      "cell_type": "code",
      "source": [
        "mnist_model = Lumiere((32, 32))\n",
        "valid = mnist_model(moving_mnist[0])\n",
        "valid.shape"
      ],
      "metadata": {
        "id": "9Pq4y6pDzwOE"
      },
      "execution_count": null,
      "outputs": []
    },
    {
      "cell_type": "code",
      "source": [
        "class VideoDataset(Dataset):\n",
        "    def __init__(self, dataset_len, video_paths, labels, transform, read_video_kwargs):\n",
        "      self.dataset_len = dataset_len\n",
        "      self.video_paths = video_paths\n",
        "      self.labels = labels\n",
        "      self.transform = transform\n",
        "      self.read_video_kwargs = read_video_kwargs\n",
        "\n",
        "    def __len__(self):\n",
        "      return self.dataset_len\n",
        "\n",
        "    def __getitem__(self, idx):\n",
        "      video, _, _ = read_video(self.video_paths[idx], **self.read_video_kwargs)\n",
        "      label = self.labels[idx]\n",
        "\n",
        "      video = torch.stack([self.transform(frame).float() / 255 for frame in video])\n",
        "      return video, label"
      ],
      "metadata": {
        "id": "OGQ-BJJa0Ouy"
      },
      "execution_count": null,
      "outputs": []
    },
    {
      "cell_type": "code",
      "source": [
        "dataset_len = 1\n",
        "video_paths = [\"/content/2308576-hd_1920_1080_30fps.mp4\"]\n",
        "labels = [\"example\"]\n",
        "transform = transforms.Resize((16, 16))\n",
        "\n",
        "read_video_kwargs = {\n",
        "    \"pts_unit\": \"sec\",\n",
        "    \"end_pts\": 3,\n",
        "    \"output_format\": \"TCHW\"\n",
        "}\n",
        "\n",
        "video_dataset = VideoDataset(dataset_len, video_paths, labels, transform, read_video_kwargs)\n",
        "dataloader = DataLoader(video_dataset, batch_size=64)"
      ],
      "metadata": {
        "id": "w-Q6HJatotDi"
      },
      "execution_count": 57,
      "outputs": []
    },
    {
      "cell_type": "code",
      "source": [
        "video, label = next(iter(dataloader))\n",
        "video.shape"
      ],
      "metadata": {
        "colab": {
          "base_uri": "https://localhost:8080/"
        },
        "id": "N5fpIIgMoypd",
        "outputId": "5ea3b255-93a8-41bc-e233-440f0e8ad18a"
      },
      "execution_count": 58,
      "outputs": [
        {
          "output_type": "execute_result",
          "data": {
            "text/plain": [
              "torch.Size([1, 90, 3, 16, 16])"
            ]
          },
          "metadata": {},
          "execution_count": 58
        }
      ]
    },
    {
      "cell_type": "code",
      "source": [
        "model = Lumiere((16, 16))\n",
        "valid = model(video[:, :88, :, :, :])\n",
        "valid.shape"
      ],
      "metadata": {
        "colab": {
          "base_uri": "https://localhost:8080/"
        },
        "id": "ITzegV-lo4nO",
        "outputId": "b6b63d22-b9e5-4efc-f284-bb7d45bddc54"
      },
      "execution_count": 59,
      "outputs": [
        {
          "output_type": "execute_result",
          "data": {
            "text/plain": [
              "torch.Size([1, 88, 3, 16, 16])"
            ]
          },
          "metadata": {},
          "execution_count": 59
        }
      ]
    },
    {
      "cell_type": "code",
      "source": [
        "display_images_from_tensor(video[0])"
      ],
      "metadata": {
        "colab": {
          "base_uri": "https://localhost:8080/",
          "height": 1000
        },
        "id": "R4iizAlFu3DS",
        "outputId": "98819d37-ad45-4c1b-fa6a-cc2bbe740e75"
      },
      "execution_count": 61,
      "outputs": [
        {
          "output_type": "display_data",
          "data": {
            "text/plain": [
              "<Figure size 1500x1000 with 30 Axes>"
            ],
            "image/png": "[encoded data removed]"
          },
          "metadata": {}
        }
      ]
    },
    {
      "cell_type": "code",
      "source": [
        "display_images_from_tensor(valid[0].detach() * 255)"
      ],
      "metadata": {
        "colab": {
          "base_uri": "https://localhost:8080/",
          "height": 1000
        },
        "id": "22-i4NGUqaQ9",
        "outputId": "586badd9-303d-41cc-96de-e412061c3310"
      },
      "execution_count": 60,
      "outputs": [
        {
          "output_type": "stream",
          "name": "stderr",
          "text": [
            "WARNING:matplotlib.image:Clipping input data to the valid range for imshow with RGB data ([0..1] for floats or [0..255] for integers).\n",
            "WARNING:matplotlib.image:Clipping input data to the valid range for imshow with RGB data ([0..1] for floats or [0..255] for integers).\n",
            "WARNING:matplotlib.image:Clipping input data to the valid range for imshow with RGB data ([0..1] for floats or [0..255] for integers).\n",
            "WARNING:matplotlib.image:Clipping input data to the valid range for imshow with RGB data ([0..1] for floats or [0..255] for integers).\n",
            "WARNING:matplotlib.image:Clipping input data to the valid range for imshow with RGB data ([0..1] for floats or [0..255] for integers).\n",
            "WARNING:matplotlib.image:Clipping input data to the valid range for imshow with RGB data ([0..1] for floats or [0..255] for integers).\n",
            "WARNING:matplotlib.image:Clipping input data to the valid range for imshow with RGB data ([0..1] for floats or [0..255] for integers).\n",
            "WARNING:matplotlib.image:Clipping input data to the valid range for imshow with RGB data ([0..1] for floats or [0..255] for integers).\n",
            "WARNING:matplotlib.image:Clipping input data to the valid range for imshow with RGB data ([0..1] for floats or [0..255] for integers).\n",
            "WARNING:matplotlib.image:Clipping input data to the valid range for imshow with RGB data ([0..1] for floats or [0..255] for integers).\n",
            "WARNING:matplotlib.image:Clipping input data to the valid range for imshow with RGB data ([0..1] for floats or [0..255] for integers).\n",
            "WARNING:matplotlib.image:Clipping input data to the valid range for imshow with RGB data ([0..1] for floats or [0..255] for integers).\n",
            "WARNING:matplotlib.image:Clipping input data to the valid range for imshow with RGB data ([0..1] for floats or [0..255] for integers).\n",
            "WARNING:matplotlib.image:Clipping input data to the valid range for imshow with RGB data ([0..1] for floats or [0..255] for integers).\n",
            "WARNING:matplotlib.image:Clipping input data to the valid range for imshow with RGB data ([0..1] for floats or [0..255] for integers).\n",
            "WARNING:matplotlib.image:Clipping input data to the valid range for imshow with RGB data ([0..1] for floats or [0..255] for integers).\n",
            "WARNING:matplotlib.image:Clipping input data to the valid range for imshow with RGB data ([0..1] for floats or [0..255] for integers).\n",
            "WARNING:matplotlib.image:Clipping input data to the valid range for imshow with RGB data ([0..1] for floats or [0..255] for integers).\n",
            "WARNING:matplotlib.image:Clipping input data to the valid range for imshow with RGB data ([0..1] for floats or [0..255] for integers).\n",
            "WARNING:matplotlib.image:Clipping input data to the valid range for imshow with RGB data ([0..1] for floats or [0..255] for integers).\n",
            "WARNING:matplotlib.image:Clipping input data to the valid range for imshow with RGB data ([0..1] for floats or [0..255] for integers).\n",
            "WARNING:matplotlib.image:Clipping input data to the valid range for imshow with RGB data ([0..1] for floats or [0..255] for integers).\n",
            "WARNING:matplotlib.image:Clipping input data to the valid range for imshow with RGB data ([0..1] for floats or [0..255] for integers).\n",
            "WARNING:matplotlib.image:Clipping input data to the valid range for imshow with RGB data ([0..1] for floats or [0..255] for integers).\n",
            "WARNING:matplotlib.image:Clipping input data to the valid range for imshow with RGB data ([0..1] for floats or [0..255] for integers).\n",
            "WARNING:matplotlib.image:Clipping input data to the valid range for imshow with RGB data ([0..1] for floats or [0..255] for integers).\n",
            "WARNING:matplotlib.image:Clipping input data to the valid range for imshow with RGB data ([0..1] for floats or [0..255] for integers).\n",
            "WARNING:matplotlib.image:Clipping input data to the valid range for imshow with RGB data ([0..1] for floats or [0..255] for integers).\n",
            "WARNING:matplotlib.image:Clipping input data to the valid range for imshow with RGB data ([0..1] for floats or [0..255] for integers).\n",
            "WARNING:matplotlib.image:Clipping input data to the valid range for imshow with RGB data ([0..1] for floats or [0..255] for integers).\n"
          ]
        },
        {
          "output_type": "display_data",
          "data": {
            "text/plain": [
              "<Figure size 1500x1000 with 30 Axes>"
            ],
            "image/png": "[encoded data removed]"
          },
          "metadata": {}
        }
      ]
    }
  ]
}